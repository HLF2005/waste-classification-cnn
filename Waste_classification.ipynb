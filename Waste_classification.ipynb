{
  "nbformat": 4,
  "nbformat_minor": 0,
  "metadata": {
    "colab": {
      "provenance": [],
      "gpuType": "L4",
      "authorship_tag": "ABX9TyOslW0qBDwtsdDFaR1lWPcA",
      "include_colab_link": true
    },
    "kernelspec": {
      "name": "python3",
      "display_name": "Python 3"
    },
    "language_info": {
      "name": "python"
    },
    "accelerator": "GPU"
  },
  "cells": [
    {
      "cell_type": "markdown",
      "metadata": {
        "id": "view-in-github",
        "colab_type": "text"
      },
      "source": [
        "<a href=\"https://colab.research.google.com/github/HLF2005/waste-classification-cnn/blob/main/Waste_classification.ipynb\" target=\"_parent\"><img src=\"https://colab.research.google.com/assets/colab-badge.svg\" alt=\"Open In Colab\"/></a>"
      ]
    },
    {
      "cell_type": "markdown",
      "source": [
        "# Imports"
      ],
      "metadata": {
        "id": "qvGgvxsinBIV"
      }
    },
    {
      "cell_type": "code",
      "execution_count": 1,
      "metadata": {
        "id": "4DTXwvRIkpYo"
      },
      "outputs": [],
      "source": [
        "# --- Installations (if running in Colab) ---\n",
        "# Uncomment below lines if required\n",
        "# !pip install tensorflow matplotlib\n",
        "\n",
        "import os\n",
        "import shutil\n",
        "import numpy as np\n",
        "import tensorflow as tf\n",
        "import matplotlib.pyplot as plt\n",
        "from typing import Tuple, List\n",
        "from google.colab import drive\n"
      ]
    },
    {
      "cell_type": "markdown",
      "source": [
        "#  TensorFlow and GPU Setup\n"
      ],
      "metadata": {
        "id": "-gwiV38Sm87l"
      }
    },
    {
      "cell_type": "code",
      "source": [
        "print('TensorFlow version:', tf.__version__)\n",
        "print('GPUs:', tf.config.list_physical_devices('GPU'))\n",
        "\n",
        "# (Optional) Avoid allocating all VRAM at once\n",
        "gpus = tf.config.list_physical_devices('GPU')\n",
        "for gpu in gpus:\n",
        "    try:\n",
        "        tf.config.experimental.set_memory_growth(gpu, True)\n",
        "    except Exception as e:\n",
        "        print('Memory growth not applied:', e)\n"
      ],
      "metadata": {
        "colab": {
          "base_uri": "https://localhost:8080/"
        },
        "id": "x6hQQ0A1kxEk",
        "outputId": "121f16c9-3693-49d7-9c21-eb9365303411"
      },
      "execution_count": 2,
      "outputs": [
        {
          "output_type": "stream",
          "name": "stdout",
          "text": [
            "TensorFlow version: 2.19.0\n",
            "GPUs: [PhysicalDevice(name='/physical_device:GPU:0', device_type='GPU')]\n"
          ]
        }
      ]
    },
    {
      "cell_type": "markdown",
      "source": [
        "#  Mount Google Drive and Copy Dataset\n"
      ],
      "metadata": {
        "id": "6HaRbK0Gm6Am"
      }
    },
    {
      "cell_type": "code",
      "source": [
        "drive.mount('/content/drive')\n",
        "\n",
        "SRC_DRIVE = '/content/drive/MyDrive/dataset/dataset'\n",
        "DST_LOCAL = '/content/dataset'\n",
        "\n",
        "if not os.path.exists(SRC_DRIVE):\n",
        "    raise FileNotFoundError(f\"Path not found: {SRC_DRIVE}\")\n",
        "\n",
        "if os.path.exists(DST_LOCAL):\n",
        "    print('Dataset already copied locally:', DST_LOCAL)\n",
        "else:\n",
        "    print('Copying dataset...')\n",
        "    shutil.copytree(SRC_DRIVE, DST_LOCAL)\n",
        "    print('Copy completed ->', DST_LOCAL)\n"
      ],
      "metadata": {
        "colab": {
          "base_uri": "https://localhost:8080/"
        },
        "id": "utUZe4B8kyhk",
        "outputId": "8b004e8a-8f51-4c2e-f7a6-b13097a0779c"
      },
      "execution_count": 10,
      "outputs": [
        {
          "output_type": "stream",
          "name": "stdout",
          "text": [
            "Drive already mounted at /content/drive; to attempt to forcibly remount, call drive.mount(\"/content/drive\", force_remount=True).\n",
            "Dataset already copied locally: /content/dataset\n"
          ]
        }
      ]
    },
    {
      "cell_type": "markdown",
      "source": [
        "#  Dataset Configuration and Splitting\n"
      ],
      "metadata": {
        "id": "nJTuP5zTm3Ab"
      }
    },
    {
      "cell_type": "code",
      "source": [
        "np.random.seed(0)\n",
        "DATASET_PATH = '/content/dataset'\n",
        "\n",
        "CLASSES = ['cardboard', 'glass', 'metal', 'paper', 'plastic', 'trash']\n",
        "CLASS2IDX = {c: i for i, c in enumerate(CLASSES)}\n",
        "\n",
        "BATCH_SIZE = 16\n",
        "IMAGE_SIZE = (128, 128)\n",
        "EPOCHS = 100\n",
        "AUTOTUNE = tf.data.AUTOTUNE\n",
        "\n",
        "def list_image_paths(root: str):\n",
        "    exts = ('.jpg', '.jpeg', '.png', '.JPG', '.JPEG', '.PNG')\n",
        "    paths, labels = [], []\n",
        "    for cls in CLASSES:\n",
        "        cls_dir = os.path.join(root, cls)\n",
        "        if not os.path.isdir(cls_dir):\n",
        "            raise FileNotFoundError(f\"Dossier classe manquant: {cls_dir}\")\n",
        "        for f in os.listdir(cls_dir):\n",
        "            if f.endswith(exts):\n",
        "                paths.append(os.path.join(cls_dir, f))\n",
        "                labels.append(CLASS2IDX[cls])\n",
        "    paths = np.array(paths)\n",
        "    labels = np.array(labels)\n",
        "    idx = np.random.permutation(len(paths))\n",
        "    return paths[idx], labels[idx]\n",
        "\n",
        "paths, labels = list_image_paths(DATASET_PATH)\n",
        "n = len(paths)\n",
        "print('Total of images', n)\n",
        "if n == 0:\n",
        "    raise RuntimeError('No images found. Check DATASET_PATH and folder structure.')\n",
        "\n",
        "split1, split2 = int(0.6 * n), int(0.8 * n)\n",
        "train_p, train_y = paths[:split1], labels[:split1]\n",
        "val_p,   val_y   = paths[split1:split2], labels[split1:split2]\n",
        "test_p,  test_y  = paths[split2:], labels[split2:]\n",
        "\n",
        "print('Train:', len(train_p), 'Val:', len(val_p), 'Test:', len(test_p))\n"
      ],
      "metadata": {
        "colab": {
          "base_uri": "https://localhost:8080/"
        },
        "id": "kThSB9H1k0Ip",
        "outputId": "4dbc04cc-35a7-475b-c463-7bf22a76f373"
      },
      "execution_count": 4,
      "outputs": [
        {
          "output_type": "stream",
          "name": "stdout",
          "text": [
            "Total of images 2527\n",
            "Train: 1516 Val: 505 Test: 506\n"
          ]
        }
      ]
    },
    {
      "cell_type": "markdown",
      "source": [
        "#  Data Augmentation and Data Pipeline"
      ],
      "metadata": {
        "id": "isKa3Fufm0US"
      }
    },
    {
      "cell_type": "code",
      "source": [
        "\n",
        "\n",
        "def augment_image(img, label):\n",
        "    img = tf.image.random_flip_left_right(img)\n",
        "    img = tf.image.random_flip_up_down(img)\n",
        "    img = tf.image.random_brightness(img, max_delta=0.1)\n",
        "    img = tf.image.random_contrast(img, lower=0.9, upper=1.1)\n",
        "    return img, label\n",
        "\n",
        "def load_and_preprocess(path, label):\n",
        "    img = tf.io.read_file(path)\n",
        "    img = tf.io.decode_image(img, channels=3, expand_animations=False)\n",
        "    img = tf.image.resize(img, IMAGE_SIZE, method='bilinear')\n",
        "    img = tf.cast(img, tf.float32) / 255.0\n",
        "    label = tf.one_hot(label, depth=len(CLASSES))\n",
        "    return img, label\n",
        "\n",
        "def make_ds(p, y, training=True):\n",
        "    ds = tf.data.Dataset.from_tensor_slices((p, y))\n",
        "    if training:\n",
        "        ds = ds.shuffle(min(4096, len(p)), reshuffle_each_iteration=True)\n",
        "    ds = ds.map(load_and_preprocess, num_parallel_calls=AUTOTUNE)\n",
        "    if training:\n",
        "        ds = ds.map(augment_image, num_parallel_calls=AUTOTUNE)\n",
        "    ds = ds.batch(BATCH_SIZE, drop_remainder=False)\n",
        "    ds = ds.prefetch(AUTOTUNE)\n",
        "    return ds\n",
        "\n",
        "train_ds = make_ds(train_p, train_y, training=True)\n",
        "val_ds   = make_ds(val_p, val_y, training=False)\n",
        "test_ds  = make_ds(test_p, test_y, training=False)\n",
        "\n",
        "for batch_imgs, batch_labels in train_ds.take(1):\n",
        "    print('Batch images shape:', batch_imgs.shape)\n",
        "    print('Batch labels shape:', batch_labels.shape)\n"
      ],
      "metadata": {
        "colab": {
          "base_uri": "https://localhost:8080/"
        },
        "id": "SJ8qFlKVk17x",
        "outputId": "08b009f9-f0e4-43b0-c780-ab19006db50b"
      },
      "execution_count": 5,
      "outputs": [
        {
          "output_type": "stream",
          "name": "stdout",
          "text": [
            "Batch images shape: (16, 128, 128, 3)\n",
            "Batch labels shape: (16, 6)\n"
          ]
        }
      ]
    },
    {
      "cell_type": "markdown",
      "source": [
        "#  Model Definition"
      ],
      "metadata": {
        "id": "lrSBxaU7mxDI"
      }
    },
    {
      "cell_type": "code",
      "source": [
        "\n",
        "from tensorflow.keras import layers, models\n",
        "\n",
        "def build_model():\n",
        "    inputs = layers.Input(shape=(128, 128, 3))\n",
        "    # Block 1\n",
        "    x = layers.Conv2D(32, 3, activation='relu', padding='same')(inputs)\n",
        "    x = layers.Conv2D(32, 3, activation='relu', padding='same')(x)\n",
        "    x = layers.MaxPooling2D()(x)\n",
        "    x = layers.Dropout(0.30)(x)\n",
        "    # Block 2\n",
        "    x = layers.Conv2D(64, 3, activation='relu', padding='same')(x)\n",
        "    x = layers.Conv2D(64, 3, activation='relu', padding='same')(x)\n",
        "    x = layers.MaxPooling2D()(x)\n",
        "    x = layers.Dropout(0.30)(x)\n",
        "    # Block 3\n",
        "    x = layers.Conv2D(128, 3, activation='relu', padding='same')(x)\n",
        "    x = layers.MaxPooling2D()(x)\n",
        "    x = layers.GlobalAveragePooling2D()(x)\n",
        "    x = layers.Dropout(0.25)(x)\n",
        "    x = layers.Dense(64, activation='relu')(x)\n",
        "    outputs = layers.Dense(len(CLASSES), activation='softmax')(x)\n",
        "    return models.Model(inputs, outputs)\n",
        "\n",
        "model = build_model()\n",
        "opt = tf.keras.optimizers.Adam(learning_rate=1e-3)\n",
        "loss = tf.keras.losses.CategoricalCrossentropy(label_smoothing=0.02)\n",
        "model.compile(loss=loss, optimizer=opt, metrics=['accuracy'])\n"
      ],
      "metadata": {
        "id": "Qb4tbaJHk5g8"
      },
      "execution_count": 6,
      "outputs": []
    },
    {
      "cell_type": "markdown",
      "source": [
        "# Training"
      ],
      "metadata": {
        "id": "ihxgRT87mnDn"
      }
    },
    {
      "cell_type": "code",
      "source": [
        "\n",
        "history = model.fit(\n",
        "    train_ds,\n",
        "    epochs=EPOCHS,\n",
        "    validation_data=val_ds,\n",
        "    verbose=2\n",
        ")\n"
      ],
      "metadata": {
        "colab": {
          "base_uri": "https://localhost:8080/"
        },
        "id": "ogJKu87mk7MN",
        "outputId": "ce187e61-86f4-4fbf-f3d6-d482840d7481"
      },
      "execution_count": 7,
      "outputs": [
        {
          "output_type": "stream",
          "name": "stdout",
          "text": [
            "Epoch 1/100\n",
            "95/95 - 18s - 191ms/step - accuracy: 0.2256 - loss: 1.7406 - val_accuracy: 0.2099 - val_loss: 1.6932\n",
            "Epoch 2/100\n",
            "95/95 - 1s - 12ms/step - accuracy: 0.2830 - loss: 1.6635 - val_accuracy: 0.2911 - val_loss: 1.6493\n",
            "Epoch 3/100\n",
            "95/95 - 1s - 12ms/step - accuracy: 0.3450 - loss: 1.5627 - val_accuracy: 0.3446 - val_loss: 1.5364\n",
            "Epoch 4/100\n",
            "95/95 - 1s - 12ms/step - accuracy: 0.3496 - loss: 1.5467 - val_accuracy: 0.3683 - val_loss: 1.4834\n",
            "Epoch 5/100\n",
            "95/95 - 1s - 12ms/step - accuracy: 0.3608 - loss: 1.4962 - val_accuracy: 0.3941 - val_loss: 1.4126\n",
            "Epoch 6/100\n",
            "95/95 - 1s - 12ms/step - accuracy: 0.3674 - loss: 1.4922 - val_accuracy: 0.4040 - val_loss: 1.4164\n",
            "Epoch 7/100\n",
            "95/95 - 1s - 12ms/step - accuracy: 0.3978 - loss: 1.4415 - val_accuracy: 0.4396 - val_loss: 1.4123\n",
            "Epoch 8/100\n",
            "95/95 - 1s - 12ms/step - accuracy: 0.4294 - loss: 1.4006 - val_accuracy: 0.3881 - val_loss: 1.4591\n",
            "Epoch 9/100\n",
            "95/95 - 1s - 12ms/step - accuracy: 0.4380 - loss: 1.3857 - val_accuracy: 0.4673 - val_loss: 1.3588\n",
            "Epoch 10/100\n",
            "95/95 - 1s - 12ms/step - accuracy: 0.4664 - loss: 1.3437 - val_accuracy: 0.4812 - val_loss: 1.2852\n",
            "Epoch 11/100\n",
            "95/95 - 1s - 12ms/step - accuracy: 0.4387 - loss: 1.3594 - val_accuracy: 0.5287 - val_loss: 1.2301\n",
            "Epoch 12/100\n",
            "95/95 - 1s - 12ms/step - accuracy: 0.4736 - loss: 1.3068 - val_accuracy: 0.5248 - val_loss: 1.2046\n",
            "Epoch 13/100\n",
            "95/95 - 1s - 12ms/step - accuracy: 0.4987 - loss: 1.2629 - val_accuracy: 0.5366 - val_loss: 1.2045\n",
            "Epoch 14/100\n",
            "95/95 - 1s - 12ms/step - accuracy: 0.5152 - loss: 1.2359 - val_accuracy: 0.5564 - val_loss: 1.2224\n",
            "Epoch 15/100\n",
            "95/95 - 1s - 12ms/step - accuracy: 0.5092 - loss: 1.2160 - val_accuracy: 0.5069 - val_loss: 1.2468\n",
            "Epoch 16/100\n",
            "95/95 - 1s - 12ms/step - accuracy: 0.5092 - loss: 1.2593 - val_accuracy: 0.5564 - val_loss: 1.1659\n",
            "Epoch 17/100\n",
            "95/95 - 1s - 11ms/step - accuracy: 0.5224 - loss: 1.2485 - val_accuracy: 0.5287 - val_loss: 1.1844\n",
            "Epoch 18/100\n",
            "95/95 - 1s - 12ms/step - accuracy: 0.5231 - loss: 1.2292 - val_accuracy: 0.5584 - val_loss: 1.2352\n",
            "Epoch 19/100\n",
            "95/95 - 1s - 12ms/step - accuracy: 0.5086 - loss: 1.2158 - val_accuracy: 0.5505 - val_loss: 1.1657\n",
            "Epoch 20/100\n",
            "95/95 - 1s - 11ms/step - accuracy: 0.5587 - loss: 1.1674 - val_accuracy: 0.5980 - val_loss: 1.1296\n",
            "Epoch 21/100\n",
            "95/95 - 1s - 11ms/step - accuracy: 0.5435 - loss: 1.1882 - val_accuracy: 0.5584 - val_loss: 1.1298\n",
            "Epoch 22/100\n",
            "95/95 - 1s - 12ms/step - accuracy: 0.5521 - loss: 1.1551 - val_accuracy: 0.5921 - val_loss: 1.0981\n",
            "Epoch 23/100\n",
            "95/95 - 1s - 12ms/step - accuracy: 0.5673 - loss: 1.1255 - val_accuracy: 0.5287 - val_loss: 1.2446\n",
            "Epoch 24/100\n",
            "95/95 - 1s - 12ms/step - accuracy: 0.5416 - loss: 1.1682 - val_accuracy: 0.5941 - val_loss: 1.0871\n",
            "Epoch 25/100\n",
            "95/95 - 1s - 12ms/step - accuracy: 0.5844 - loss: 1.0835 - val_accuracy: 0.5663 - val_loss: 1.0898\n",
            "Epoch 26/100\n",
            "95/95 - 1s - 12ms/step - accuracy: 0.5970 - loss: 1.0817 - val_accuracy: 0.6099 - val_loss: 1.0333\n",
            "Epoch 27/100\n",
            "95/95 - 1s - 12ms/step - accuracy: 0.5871 - loss: 1.0827 - val_accuracy: 0.6000 - val_loss: 1.0603\n",
            "Epoch 28/100\n",
            "95/95 - 1s - 12ms/step - accuracy: 0.5732 - loss: 1.1256 - val_accuracy: 0.6317 - val_loss: 1.0218\n",
            "Epoch 29/100\n",
            "95/95 - 1s - 12ms/step - accuracy: 0.6016 - loss: 1.0500 - val_accuracy: 0.6139 - val_loss: 1.0528\n",
            "Epoch 30/100\n",
            "95/95 - 1s - 12ms/step - accuracy: 0.6108 - loss: 1.0530 - val_accuracy: 0.5663 - val_loss: 1.1329\n",
            "Epoch 31/100\n",
            "95/95 - 1s - 12ms/step - accuracy: 0.6161 - loss: 1.0310 - val_accuracy: 0.5168 - val_loss: 1.2314\n",
            "Epoch 32/100\n",
            "95/95 - 1s - 12ms/step - accuracy: 0.6253 - loss: 1.0185 - val_accuracy: 0.6376 - val_loss: 0.9919\n",
            "Epoch 33/100\n",
            "95/95 - 1s - 12ms/step - accuracy: 0.6346 - loss: 1.0050 - val_accuracy: 0.6475 - val_loss: 1.0171\n",
            "Epoch 34/100\n",
            "95/95 - 1s - 12ms/step - accuracy: 0.6299 - loss: 1.0086 - val_accuracy: 0.5960 - val_loss: 1.0496\n",
            "Epoch 35/100\n",
            "95/95 - 1s - 12ms/step - accuracy: 0.6458 - loss: 1.0195 - val_accuracy: 0.6396 - val_loss: 1.0334\n",
            "Epoch 36/100\n",
            "95/95 - 1s - 12ms/step - accuracy: 0.6253 - loss: 1.0231 - val_accuracy: 0.6277 - val_loss: 1.0693\n",
            "Epoch 37/100\n",
            "95/95 - 1s - 12ms/step - accuracy: 0.6431 - loss: 0.9813 - val_accuracy: 0.6337 - val_loss: 1.0452\n",
            "Epoch 38/100\n",
            "95/95 - 1s - 12ms/step - accuracy: 0.6478 - loss: 0.9713 - val_accuracy: 0.6653 - val_loss: 0.9735\n",
            "Epoch 39/100\n",
            "95/95 - 1s - 12ms/step - accuracy: 0.6550 - loss: 0.9513 - val_accuracy: 0.6416 - val_loss: 1.0036\n",
            "Epoch 40/100\n",
            "95/95 - 1s - 12ms/step - accuracy: 0.6405 - loss: 0.9777 - val_accuracy: 0.6455 - val_loss: 0.9766\n",
            "Epoch 41/100\n",
            "95/95 - 1s - 12ms/step - accuracy: 0.6616 - loss: 0.9638 - val_accuracy: 0.6515 - val_loss: 0.9827\n",
            "Epoch 42/100\n",
            "95/95 - 1s - 12ms/step - accuracy: 0.6491 - loss: 0.9336 - val_accuracy: 0.6436 - val_loss: 0.9703\n",
            "Epoch 43/100\n",
            "95/95 - 1s - 12ms/step - accuracy: 0.6649 - loss: 0.9433 - val_accuracy: 0.6376 - val_loss: 1.0051\n",
            "Epoch 44/100\n",
            "95/95 - 1s - 12ms/step - accuracy: 0.6728 - loss: 0.9151 - val_accuracy: 0.6733 - val_loss: 0.9184\n",
            "Epoch 45/100\n",
            "95/95 - 1s - 12ms/step - accuracy: 0.6880 - loss: 0.9062 - val_accuracy: 0.6733 - val_loss: 0.9661\n",
            "Epoch 46/100\n",
            "95/95 - 1s - 12ms/step - accuracy: 0.6920 - loss: 0.8965 - val_accuracy: 0.6594 - val_loss: 0.9329\n",
            "Epoch 47/100\n",
            "95/95 - 1s - 12ms/step - accuracy: 0.6854 - loss: 0.8837 - val_accuracy: 0.6673 - val_loss: 0.9540\n",
            "Epoch 48/100\n",
            "95/95 - 1s - 12ms/step - accuracy: 0.6873 - loss: 0.8896 - val_accuracy: 0.6891 - val_loss: 0.9115\n",
            "Epoch 49/100\n",
            "95/95 - 1s - 12ms/step - accuracy: 0.7164 - loss: 0.8554 - val_accuracy: 0.6416 - val_loss: 1.0668\n",
            "Epoch 50/100\n",
            "95/95 - 1s - 12ms/step - accuracy: 0.7111 - loss: 0.8495 - val_accuracy: 0.7010 - val_loss: 0.8516\n",
            "Epoch 51/100\n",
            "95/95 - 1s - 12ms/step - accuracy: 0.7078 - loss: 0.8456 - val_accuracy: 0.7050 - val_loss: 0.8555\n",
            "Epoch 52/100\n",
            "95/95 - 1s - 12ms/step - accuracy: 0.7276 - loss: 0.8090 - val_accuracy: 0.7050 - val_loss: 0.8746\n",
            "Epoch 53/100\n",
            "95/95 - 1s - 12ms/step - accuracy: 0.7216 - loss: 0.8314 - val_accuracy: 0.6950 - val_loss: 0.9218\n",
            "Epoch 54/100\n",
            "95/95 - 1s - 12ms/step - accuracy: 0.7223 - loss: 0.8264 - val_accuracy: 0.7188 - val_loss: 0.8963\n",
            "Epoch 55/100\n",
            "95/95 - 1s - 12ms/step - accuracy: 0.7276 - loss: 0.7992 - val_accuracy: 0.6653 - val_loss: 0.9538\n",
            "Epoch 56/100\n",
            "95/95 - 1s - 12ms/step - accuracy: 0.7282 - loss: 0.7903 - val_accuracy: 0.6574 - val_loss: 0.9920\n",
            "Epoch 57/100\n",
            "95/95 - 1s - 12ms/step - accuracy: 0.7434 - loss: 0.7672 - val_accuracy: 0.7307 - val_loss: 0.8142\n",
            "Epoch 58/100\n",
            "95/95 - 1s - 12ms/step - accuracy: 0.7507 - loss: 0.7340 - val_accuracy: 0.7188 - val_loss: 0.8480\n",
            "Epoch 59/100\n",
            "95/95 - 1s - 12ms/step - accuracy: 0.7507 - loss: 0.7636 - val_accuracy: 0.7386 - val_loss: 0.8530\n",
            "Epoch 60/100\n",
            "95/95 - 1s - 12ms/step - accuracy: 0.7487 - loss: 0.7651 - val_accuracy: 0.7089 - val_loss: 0.8571\n",
            "Epoch 61/100\n",
            "95/95 - 1s - 12ms/step - accuracy: 0.7639 - loss: 0.7501 - val_accuracy: 0.7129 - val_loss: 0.8439\n",
            "Epoch 62/100\n",
            "95/95 - 1s - 12ms/step - accuracy: 0.7533 - loss: 0.7578 - val_accuracy: 0.7010 - val_loss: 0.8785\n",
            "Epoch 63/100\n",
            "95/95 - 1s - 12ms/step - accuracy: 0.7751 - loss: 0.7013 - val_accuracy: 0.7327 - val_loss: 0.8292\n",
            "Epoch 64/100\n",
            "95/95 - 1s - 12ms/step - accuracy: 0.7672 - loss: 0.7040 - val_accuracy: 0.7248 - val_loss: 0.7942\n",
            "Epoch 65/100\n",
            "95/95 - 1s - 12ms/step - accuracy: 0.7698 - loss: 0.6981 - val_accuracy: 0.7426 - val_loss: 0.7942\n",
            "Epoch 66/100\n",
            "95/95 - 1s - 12ms/step - accuracy: 0.7744 - loss: 0.6995 - val_accuracy: 0.7386 - val_loss: 0.7977\n",
            "Epoch 67/100\n",
            "95/95 - 1s - 12ms/step - accuracy: 0.7909 - loss: 0.6639 - val_accuracy: 0.7505 - val_loss: 0.7838\n",
            "Epoch 68/100\n",
            "95/95 - 1s - 12ms/step - accuracy: 0.7962 - loss: 0.6328 - val_accuracy: 0.7485 - val_loss: 0.7834\n",
            "Epoch 69/100\n",
            "95/95 - 1s - 12ms/step - accuracy: 0.8008 - loss: 0.6467 - val_accuracy: 0.7663 - val_loss: 0.7884\n",
            "Epoch 70/100\n",
            "95/95 - 1s - 12ms/step - accuracy: 0.7883 - loss: 0.6770 - val_accuracy: 0.7426 - val_loss: 0.7961\n",
            "Epoch 71/100\n",
            "95/95 - 1s - 12ms/step - accuracy: 0.7935 - loss: 0.6506 - val_accuracy: 0.6911 - val_loss: 0.9139\n",
            "Epoch 72/100\n",
            "95/95 - 1s - 12ms/step - accuracy: 0.7962 - loss: 0.6338 - val_accuracy: 0.7624 - val_loss: 0.7434\n",
            "Epoch 73/100\n",
            "95/95 - 1s - 12ms/step - accuracy: 0.7823 - loss: 0.6933 - val_accuracy: 0.7426 - val_loss: 0.8392\n",
            "Epoch 74/100\n",
            "95/95 - 1s - 12ms/step - accuracy: 0.8080 - loss: 0.6322 - val_accuracy: 0.7762 - val_loss: 0.7498\n",
            "Epoch 75/100\n",
            "95/95 - 1s - 12ms/step - accuracy: 0.8094 - loss: 0.6003 - val_accuracy: 0.7545 - val_loss: 0.7586\n",
            "Epoch 76/100\n",
            "95/95 - 1s - 12ms/step - accuracy: 0.7988 - loss: 0.6452 - val_accuracy: 0.7644 - val_loss: 0.7359\n",
            "Epoch 77/100\n",
            "95/95 - 1s - 12ms/step - accuracy: 0.8166 - loss: 0.6014 - val_accuracy: 0.7743 - val_loss: 0.6926\n",
            "Epoch 78/100\n",
            "95/95 - 1s - 12ms/step - accuracy: 0.7916 - loss: 0.6411 - val_accuracy: 0.7347 - val_loss: 0.7562\n",
            "Epoch 79/100\n",
            "95/95 - 1s - 12ms/step - accuracy: 0.8179 - loss: 0.5884 - val_accuracy: 0.7505 - val_loss: 0.7477\n",
            "Epoch 80/100\n",
            "95/95 - 1s - 12ms/step - accuracy: 0.8305 - loss: 0.5813 - val_accuracy: 0.7822 - val_loss: 0.7019\n",
            "Epoch 81/100\n",
            "95/95 - 1s - 12ms/step - accuracy: 0.8127 - loss: 0.5905 - val_accuracy: 0.7782 - val_loss: 0.7488\n",
            "Epoch 82/100\n",
            "95/95 - 1s - 12ms/step - accuracy: 0.8186 - loss: 0.5816 - val_accuracy: 0.7842 - val_loss: 0.7248\n",
            "Epoch 83/100\n",
            "95/95 - 1s - 12ms/step - accuracy: 0.8364 - loss: 0.5727 - val_accuracy: 0.7663 - val_loss: 0.6969\n",
            "Epoch 84/100\n",
            "95/95 - 1s - 12ms/step - accuracy: 0.8186 - loss: 0.6103 - val_accuracy: 0.7545 - val_loss: 0.7475\n",
            "Epoch 85/100\n",
            "95/95 - 1s - 12ms/step - accuracy: 0.8391 - loss: 0.5663 - val_accuracy: 0.7564 - val_loss: 0.7747\n",
            "Epoch 86/100\n",
            "95/95 - 1s - 12ms/step - accuracy: 0.8351 - loss: 0.5805 - val_accuracy: 0.7426 - val_loss: 0.7996\n",
            "Epoch 87/100\n",
            "95/95 - 1s - 12ms/step - accuracy: 0.8219 - loss: 0.5641 - val_accuracy: 0.7921 - val_loss: 0.7075\n",
            "Epoch 88/100\n",
            "95/95 - 1s - 12ms/step - accuracy: 0.8483 - loss: 0.5220 - val_accuracy: 0.7762 - val_loss: 0.7157\n",
            "Epoch 89/100\n",
            "95/95 - 1s - 12ms/step - accuracy: 0.8311 - loss: 0.5494 - val_accuracy: 0.7842 - val_loss: 0.7111\n",
            "Epoch 90/100\n",
            "95/95 - 1s - 12ms/step - accuracy: 0.8410 - loss: 0.5325 - val_accuracy: 0.7564 - val_loss: 0.7860\n",
            "Epoch 91/100\n",
            "95/95 - 1s - 12ms/step - accuracy: 0.8193 - loss: 0.5686 - val_accuracy: 0.7584 - val_loss: 0.7819\n",
            "Epoch 92/100\n",
            "95/95 - 1s - 12ms/step - accuracy: 0.8265 - loss: 0.5593 - val_accuracy: 0.7683 - val_loss: 0.7228\n",
            "Epoch 93/100\n",
            "95/95 - 1s - 12ms/step - accuracy: 0.8430 - loss: 0.5448 - val_accuracy: 0.7762 - val_loss: 0.6916\n",
            "Epoch 94/100\n",
            "95/95 - 1s - 12ms/step - accuracy: 0.8437 - loss: 0.5132 - val_accuracy: 0.7743 - val_loss: 0.7169\n",
            "Epoch 95/100\n",
            "95/95 - 1s - 12ms/step - accuracy: 0.8516 - loss: 0.5172 - val_accuracy: 0.8040 - val_loss: 0.6541\n",
            "Epoch 96/100\n",
            "95/95 - 1s - 12ms/step - accuracy: 0.8595 - loss: 0.5151 - val_accuracy: 0.7644 - val_loss: 0.7601\n",
            "Epoch 97/100\n",
            "95/95 - 1s - 12ms/step - accuracy: 0.8549 - loss: 0.5101 - val_accuracy: 0.7525 - val_loss: 0.7612\n",
            "Epoch 98/100\n",
            "95/95 - 1s - 12ms/step - accuracy: 0.8628 - loss: 0.4942 - val_accuracy: 0.8059 - val_loss: 0.6499\n",
            "Epoch 99/100\n",
            "95/95 - 1s - 12ms/step - accuracy: 0.8483 - loss: 0.5310 - val_accuracy: 0.7743 - val_loss: 0.7261\n",
            "Epoch 100/100\n",
            "95/95 - 1s - 12ms/step - accuracy: 0.8635 - loss: 0.4910 - val_accuracy: 0.7782 - val_loss: 0.7132\n"
          ]
        }
      ]
    },
    {
      "cell_type": "markdown",
      "source": [
        "#  Evaluation\n"
      ],
      "metadata": {
        "id": "HaiYx_GkqifO"
      }
    },
    {
      "cell_type": "code",
      "source": [
        "test_loss, test_acc = model.evaluate(test_ds, verbose=0)\n",
        "print('Test loss:', test_loss)\n",
        "print('Test accuracy:', test_acc)\n"
      ],
      "metadata": {
        "colab": {
          "base_uri": "https://localhost:8080/"
        },
        "id": "yKPPUWKok8yE",
        "outputId": "717fb094-c3e8-43b8-ad95-cf45351c3d19"
      },
      "execution_count": 8,
      "outputs": [
        {
          "output_type": "stream",
          "name": "stdout",
          "text": [
            "Test loss: 0.7094868421554565\n",
            "Test accuracy: 0.790513813495636\n"
          ]
        }
      ]
    },
    {
      "cell_type": "markdown",
      "source": [
        "#  Visualization\n"
      ],
      "metadata": {
        "id": "BbOKK8LoqmUv"
      }
    },
    {
      "cell_type": "code",
      "source": [
        "epochs_range = range(1, len(history.history['loss']) + 1)\n",
        "plt.figure()\n",
        "plt.title('Loss')\n",
        "plt.plot(epochs_range, history.history['loss'], 'r+', label='Training loss')\n",
        "plt.plot(epochs_range, history.history.get('val_loss', []), 'b+', label='Validation loss')\n",
        "plt.legend(); plt.xlabel('Epochs'); plt.show()\n",
        "\n",
        "plt.figure()\n",
        "plt.title('Accuracy')\n",
        "plt.plot(epochs_range, history.history['accuracy'], 'r+', label='Training acc')\n",
        "plt.plot(epochs_range, history.history.get('val_accuracy', []), 'b+', label='Validation acc')\n",
        "plt.legend(); plt.xlabel('Epochs'); plt.show()\n"
      ],
      "metadata": {
        "colab": {
          "base_uri": "https://localhost:8080/",
          "height": 927
        },
        "id": "XBBnyNrgk-aN",
        "outputId": "fc839217-dbeb-4706-b5a4-f3e56b2c918b"
      },
      "execution_count": 9,
      "outputs": [
        {
          "output_type": "display_data",
          "data": {
            "text/plain": [
              "<Figure size 640x480 with 1 Axes>"
            ],
            "image/png": "[encoded data removed]"
          },
          "metadata": {}
        },
        {
          "output_type": "display_data",
          "data": {
            "text/plain": [
              "<Figure size 640x480 with 1 Axes>"
            ],
            "image/png": "[encoded data removed]"
          },
          "metadata": {}
        }
      ]
    }
  ]
}